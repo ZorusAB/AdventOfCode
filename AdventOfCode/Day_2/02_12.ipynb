{
 "cells": [
  {
   "cell_type": "code",
   "execution_count": 1,
   "id": "fa3f0769-1e81-438e-b7fc-d382a4e303c0",
   "metadata": {},
   "outputs": [],
   "source": [
    "import pandas as pd\n",
    "import math"
   ]
  },
  {
   "cell_type": "markdown",
   "id": "1be689ef-fba6-4f39-b9ea-1ea23ef6659c",
   "metadata": {},
   "source": [
    "### Jeu de boules"
   ]
  },
  {
   "cell_type": "markdown",
   "id": "44d4876d-b5b2-44cc-a91e-5e0fcb6f99e6",
   "metadata": {},
   "source": [
    "Dans un sac se trouvent des boules rouges, vertes et bleues. Jouons.\n",
    "\n",
    "Le but ultime du jeu (pas le notre) est de déterminer la quantité de boules contenue dans le sac. Pour se faire, notre elfe maître du jeu va révéler plusieurs fois (nombre aléatoire) une certaine quantité (aléatoire) de boules du sac.\n",
    "\n",
    "Les résultats des tirages sont référencés dans le fichier input.txt, nous souhaitons isoler les parties possibles sous la condition suivante : \"Le sac contient 12 boules rouges, 13 boules vertes et 14 boules bleues\" puis obtenir la somme des IDs de ces dernières."
   ]
  },
  {
   "cell_type": "markdown",
   "id": "34fdbea3-3a6a-4cae-8cfe-9e88170f4ef6",
   "metadata": {},
   "source": [
    "Conditionnement de l'impossibilité d'une partie :\n",
    "\n",
    "    - Une partie est impossible si l'elfe tire plus de 39 boules strictement (faible), utile pour une potentielle \"optimisation\"\n",
    "    - Une partie est impossible si l'efle tire plus de 12 boules rouges strictement, ou plus de 13 boules vertes strictement, ou plus de 14 boules bleues strictement"
   ]
  },
  {
   "cell_type": "markdown",
   "id": "ad24e6e1-d830-4834-9fac-ff09c29b4b81",
   "metadata": {},
   "source": [
    "#### Récupèrer l'information\n"
   ]
  },
  {
   "cell_type": "code",
   "execution_count": 2,
   "id": "1ef1e330-ded8-491b-b9a7-11449e359096",
   "metadata": {},
   "outputs": [],
   "source": [
    "# Lecture\n",
    "with open('input.txt', 'r') as file:\n",
    "    text = file.read()"
   ]
  },
  {
   "cell_type": "markdown",
   "id": "9db861b1-b57f-4f08-aae5-99e767b68076",
   "metadata": {},
   "source": [
    "#### Transformer l'information"
   ]
  },
  {
   "cell_type": "markdown",
   "id": "ed816dff-2c16-4dce-8e16-1833f4d80f24",
   "metadata": {},
   "source": [
    "Je sais pas pourquoi mais j'avais envie de mettre en forme des DataFrames pour ensuite faire des calculs dessus."
   ]
  },
  {
   "cell_type": "code",
   "execution_count": 3,
   "id": "d5ee4fdd-7b03-4e2b-a20e-f04d9f6b101e",
   "metadata": {},
   "outputs": [],
   "source": [
    "# Un string pour chaque game\n",
    "rows = text.strip().split('\\n')"
   ]
  },
  {
   "cell_type": "code",
   "execution_count": 4,
   "id": "f4482360-0e63-4724-977d-511f94bef51a",
   "metadata": {},
   "outputs": [
    {
     "data": {
      "text/plain": [
       "'Game 1: 7 green, 14 red, 5 blue; 8 red, 4 green; 6 green, 18 red, 9 blue'"
      ]
     },
     "execution_count": 4,
     "metadata": {},
     "output_type": "execute_result"
    }
   ],
   "source": [
    "rows[0]"
   ]
  },
  {
   "cell_type": "code",
   "execution_count": 5,
   "id": "2d95ace0-bf83-4261-8475-0f0da70be65a",
   "metadata": {},
   "outputs": [],
   "source": [
    "# Parsing d'une ligne pour récupèrer l'information sous une forme exploitable (tuple)\n",
    "\n",
    "def parsing_line(line):\n",
    "    \n",
    "    parts = line.strip().split(': ')\n",
    "    id_partie = parts[0]\n",
    "    data_partie = parts[1].split('; ')\n",
    "    \n",
    "    return id_partie, data_partie\n"
   ]
  },
  {
   "cell_type": "code",
   "execution_count": 6,
   "id": "08bfa244-6b81-4c88-9b73-6f9c961e5fc8",
   "metadata": {},
   "outputs": [
    {
     "data": {
      "text/plain": [
       "('Game 1',\n",
       " ['7 green, 14 red, 5 blue', '8 red, 4 green', '6 green, 18 red, 9 blue'])"
      ]
     },
     "execution_count": 6,
     "metadata": {},
     "output_type": "execute_result"
    }
   ],
   "source": [
    "parsing_line(rows[0])"
   ]
  },
  {
   "cell_type": "code",
   "execution_count": 7,
   "id": "149b7cfd-1acc-412b-9cb2-6a042da83cbf",
   "metadata": {},
   "outputs": [],
   "source": [
    "liste_data = []\n",
    "for row in rows :\n",
    "    id_partie, data_partie = parsing_line(row)\n",
    "    liste_data.append((id_partie, data_partie))"
   ]
  },
  {
   "cell_type": "code",
   "execution_count": 8,
   "id": "311c4fa1-1fb6-4e25-a784-184878bd630c",
   "metadata": {
    "tags": []
   },
   "outputs": [
    {
     "data": {
      "text/plain": [
       "('Game 52',\n",
       " ['1 blue',\n",
       "  '5 green, 9 red',\n",
       "  '2 blue, 1 green, 11 red',\n",
       "  '2 blue, 13 red, 5 green',\n",
       "  '6 green, 1 blue, 9 red'])"
      ]
     },
     "execution_count": 8,
     "metadata": {},
     "output_type": "execute_result"
    }
   ],
   "source": [
    "liste_data[51]"
   ]
  },
  {
   "cell_type": "code",
   "execution_count": 9,
   "id": "b575adcc-9093-4ddd-abec-cfad8934b789",
   "metadata": {},
   "outputs": [],
   "source": [
    "# Création du DataFrame\n",
    "df = pd.DataFrame(columns = ['ID'])"
   ]
  },
  {
   "cell_type": "code",
   "execution_count": 10,
   "id": "fe4d0829-fb42-485d-9044-408ab03f76bf",
   "metadata": {
    "tags": []
   },
   "outputs": [
    {
     "name": "stderr",
     "output_type": "stream",
     "text": [
      "C:\\Users\\Alexandre\\AppData\\Local\\Temp\\ipykernel_17076\\1405919454.py:18: FutureWarning: The frame.append method is deprecated and will be removed from pandas in a future version. Use pandas.concat instead.\n",
      "  df = df.append({'ID' : id_partie, **dict_partie}, ignore_index= True)\n",
      "C:\\Users\\Alexandre\\AppData\\Local\\Temp\\ipykernel_17076\\1405919454.py:18: FutureWarning: The frame.append method is deprecated and will be removed from pandas in a future version. Use pandas.concat instead.\n",
      "  df = df.append({'ID' : id_partie, **dict_partie}, ignore_index= True)\n",
      "C:\\Users\\Alexandre\\AppData\\Local\\Temp\\ipykernel_17076\\1405919454.py:18: FutureWarning: The frame.append method is deprecated and will be removed from pandas in a future version. Use pandas.concat instead.\n",
      "  df = df.append({'ID' : id_partie, **dict_partie}, ignore_index= True)\n",
      "C:\\Users\\Alexandre\\AppData\\Local\\Temp\\ipykernel_17076\\1405919454.py:18: FutureWarning: The frame.append method is deprecated and will be removed from pandas in a future version. Use pandas.concat instead.\n",
      "  df = df.append({'ID' : id_partie, **dict_partie}, ignore_index= True)\n",
      "C:\\Users\\Alexandre\\AppData\\Local\\Temp\\ipykernel_17076\\1405919454.py:18: FutureWarning: The frame.append method is deprecated and will be removed from pandas in a future version. Use pandas.concat instead.\n",
      "  df = df.append({'ID' : id_partie, **dict_partie}, ignore_index= True)\n",
      "C:\\Users\\Alexandre\\AppData\\Local\\Temp\\ipykernel_17076\\1405919454.py:18: FutureWarning: The frame.append method is deprecated and will be removed from pandas in a future version. Use pandas.concat instead.\n",
      "  df = df.append({'ID' : id_partie, **dict_partie}, ignore_index= True)\n",
      "C:\\Users\\Alexandre\\AppData\\Local\\Temp\\ipykernel_17076\\1405919454.py:18: FutureWarning: The frame.append method is deprecated and will be removed from pandas in a future version. Use pandas.concat instead.\n",
      "  df = df.append({'ID' : id_partie, **dict_partie}, ignore_index= True)\n",
      "C:\\Users\\Alexandre\\AppData\\Local\\Temp\\ipykernel_17076\\1405919454.py:18: FutureWarning: The frame.append method is deprecated and will be removed from pandas in a future version. Use pandas.concat instead.\n",
      "  df = df.append({'ID' : id_partie, **dict_partie}, ignore_index= True)\n",
      "C:\\Users\\Alexandre\\AppData\\Local\\Temp\\ipykernel_17076\\1405919454.py:18: FutureWarning: The frame.append method is deprecated and will be removed from pandas in a future version. Use pandas.concat instead.\n",
      "  df = df.append({'ID' : id_partie, **dict_partie}, ignore_index= True)\n",
      "C:\\Users\\Alexandre\\AppData\\Local\\Temp\\ipykernel_17076\\1405919454.py:18: FutureWarning: The frame.append method is deprecated and will be removed from pandas in a future version. Use pandas.concat instead.\n",
      "  df = df.append({'ID' : id_partie, **dict_partie}, ignore_index= True)\n",
      "C:\\Users\\Alexandre\\AppData\\Local\\Temp\\ipykernel_17076\\1405919454.py:18: FutureWarning: The frame.append method is deprecated and will be removed from pandas in a future version. Use pandas.concat instead.\n",
      "  df = df.append({'ID' : id_partie, **dict_partie}, ignore_index= True)\n",
      "C:\\Users\\Alexandre\\AppData\\Local\\Temp\\ipykernel_17076\\1405919454.py:18: FutureWarning: The frame.append method is deprecated and will be removed from pandas in a future version. Use pandas.concat instead.\n",
      "  df = df.append({'ID' : id_partie, **dict_partie}, ignore_index= True)\n",
      "C:\\Users\\Alexandre\\AppData\\Local\\Temp\\ipykernel_17076\\1405919454.py:18: FutureWarning: The frame.append method is deprecated and will be removed from pandas in a future version. Use pandas.concat instead.\n",
      "  df = df.append({'ID' : id_partie, **dict_partie}, ignore_index= True)\n",
      "C:\\Users\\Alexandre\\AppData\\Local\\Temp\\ipykernel_17076\\1405919454.py:18: FutureWarning: The frame.append method is deprecated and will be removed from pandas in a future version. Use pandas.concat instead.\n",
      "  df = df.append({'ID' : id_partie, **dict_partie}, ignore_index= True)\n",
      "C:\\Users\\Alexandre\\AppData\\Local\\Temp\\ipykernel_17076\\1405919454.py:18: FutureWarning: The frame.append method is deprecated and will be removed from pandas in a future version. Use pandas.concat instead.\n",
      "  df = df.append({'ID' : id_partie, **dict_partie}, ignore_index= True)\n",
      "C:\\Users\\Alexandre\\AppData\\Local\\Temp\\ipykernel_17076\\1405919454.py:18: FutureWarning: The frame.append method is deprecated and will be removed from pandas in a future version. Use pandas.concat instead.\n",
      "  df = df.append({'ID' : id_partie, **dict_partie}, ignore_index= True)\n",
      "C:\\Users\\Alexandre\\AppData\\Local\\Temp\\ipykernel_17076\\1405919454.py:18: FutureWarning: The frame.append method is deprecated and will be removed from pandas in a future version. Use pandas.concat instead.\n",
      "  df = df.append({'ID' : id_partie, **dict_partie}, ignore_index= True)\n",
      "C:\\Users\\Alexandre\\AppData\\Local\\Temp\\ipykernel_17076\\1405919454.py:18: FutureWarning: The frame.append method is deprecated and will be removed from pandas in a future version. Use pandas.concat instead.\n",
      "  df = df.append({'ID' : id_partie, **dict_partie}, ignore_index= True)\n",
      "C:\\Users\\Alexandre\\AppData\\Local\\Temp\\ipykernel_17076\\1405919454.py:18: FutureWarning: The frame.append method is deprecated and will be removed from pandas in a future version. Use pandas.concat instead.\n",
      "  df = df.append({'ID' : id_partie, **dict_partie}, ignore_index= True)\n",
      "C:\\Users\\Alexandre\\AppData\\Local\\Temp\\ipykernel_17076\\1405919454.py:18: FutureWarning: The frame.append method is deprecated and will be removed from pandas in a future version. Use pandas.concat instead.\n",
      "  df = df.append({'ID' : id_partie, **dict_partie}, ignore_index= True)\n",
      "C:\\Users\\Alexandre\\AppData\\Local\\Temp\\ipykernel_17076\\1405919454.py:18: FutureWarning: The frame.append method is deprecated and will be removed from pandas in a future version. Use pandas.concat instead.\n",
      "  df = df.append({'ID' : id_partie, **dict_partie}, ignore_index= True)\n",
      "C:\\Users\\Alexandre\\AppData\\Local\\Temp\\ipykernel_17076\\1405919454.py:18: FutureWarning: The frame.append method is deprecated and will be removed from pandas in a future version. Use pandas.concat instead.\n",
      "  df = df.append({'ID' : id_partie, **dict_partie}, ignore_index= True)\n",
      "C:\\Users\\Alexandre\\AppData\\Local\\Temp\\ipykernel_17076\\1405919454.py:18: FutureWarning: The frame.append method is deprecated and will be removed from pandas in a future version. Use pandas.concat instead.\n",
      "  df = df.append({'ID' : id_partie, **dict_partie}, ignore_index= True)\n",
      "C:\\Users\\Alexandre\\AppData\\Local\\Temp\\ipykernel_17076\\1405919454.py:18: FutureWarning: The frame.append method is deprecated and will be removed from pandas in a future version. Use pandas.concat instead.\n",
      "  df = df.append({'ID' : id_partie, **dict_partie}, ignore_index= True)\n",
      "C:\\Users\\Alexandre\\AppData\\Local\\Temp\\ipykernel_17076\\1405919454.py:18: FutureWarning: The frame.append method is deprecated and will be removed from pandas in a future version. Use pandas.concat instead.\n",
      "  df = df.append({'ID' : id_partie, **dict_partie}, ignore_index= True)\n",
      "C:\\Users\\Alexandre\\AppData\\Local\\Temp\\ipykernel_17076\\1405919454.py:18: FutureWarning: The frame.append method is deprecated and will be removed from pandas in a future version. Use pandas.concat instead.\n",
      "  df = df.append({'ID' : id_partie, **dict_partie}, ignore_index= True)\n",
      "C:\\Users\\Alexandre\\AppData\\Local\\Temp\\ipykernel_17076\\1405919454.py:18: FutureWarning: The frame.append method is deprecated and will be removed from pandas in a future version. Use pandas.concat instead.\n",
      "  df = df.append({'ID' : id_partie, **dict_partie}, ignore_index= True)\n",
      "C:\\Users\\Alexandre\\AppData\\Local\\Temp\\ipykernel_17076\\1405919454.py:18: FutureWarning: The frame.append method is deprecated and will be removed from pandas in a future version. Use pandas.concat instead.\n",
      "  df = df.append({'ID' : id_partie, **dict_partie}, ignore_index= True)\n",
      "C:\\Users\\Alexandre\\AppData\\Local\\Temp\\ipykernel_17076\\1405919454.py:18: FutureWarning: The frame.append method is deprecated and will be removed from pandas in a future version. Use pandas.concat instead.\n",
      "  df = df.append({'ID' : id_partie, **dict_partie}, ignore_index= True)\n",
      "C:\\Users\\Alexandre\\AppData\\Local\\Temp\\ipykernel_17076\\1405919454.py:18: FutureWarning: The frame.append method is deprecated and will be removed from pandas in a future version. Use pandas.concat instead.\n",
      "  df = df.append({'ID' : id_partie, **dict_partie}, ignore_index= True)\n",
      "C:\\Users\\Alexandre\\AppData\\Local\\Temp\\ipykernel_17076\\1405919454.py:18: FutureWarning: The frame.append method is deprecated and will be removed from pandas in a future version. Use pandas.concat instead.\n",
      "  df = df.append({'ID' : id_partie, **dict_partie}, ignore_index= True)\n",
      "C:\\Users\\Alexandre\\AppData\\Local\\Temp\\ipykernel_17076\\1405919454.py:18: FutureWarning: The frame.append method is deprecated and will be removed from pandas in a future version. Use pandas.concat instead.\n",
      "  df = df.append({'ID' : id_partie, **dict_partie}, ignore_index= True)\n",
      "C:\\Users\\Alexandre\\AppData\\Local\\Temp\\ipykernel_17076\\1405919454.py:18: FutureWarning: The frame.append method is deprecated and will be removed from pandas in a future version. Use pandas.concat instead.\n",
      "  df = df.append({'ID' : id_partie, **dict_partie}, ignore_index= True)\n",
      "C:\\Users\\Alexandre\\AppData\\Local\\Temp\\ipykernel_17076\\1405919454.py:18: FutureWarning: The frame.append method is deprecated and will be removed from pandas in a future version. Use pandas.concat instead.\n",
      "  df = df.append({'ID' : id_partie, **dict_partie}, ignore_index= True)\n",
      "C:\\Users\\Alexandre\\AppData\\Local\\Temp\\ipykernel_17076\\1405919454.py:18: FutureWarning: The frame.append method is deprecated and will be removed from pandas in a future version. Use pandas.concat instead.\n",
      "  df = df.append({'ID' : id_partie, **dict_partie}, ignore_index= True)\n",
      "C:\\Users\\Alexandre\\AppData\\Local\\Temp\\ipykernel_17076\\1405919454.py:18: FutureWarning: The frame.append method is deprecated and will be removed from pandas in a future version. Use pandas.concat instead.\n",
      "  df = df.append({'ID' : id_partie, **dict_partie}, ignore_index= True)\n",
      "C:\\Users\\Alexandre\\AppData\\Local\\Temp\\ipykernel_17076\\1405919454.py:18: FutureWarning: The frame.append method is deprecated and will be removed from pandas in a future version. Use pandas.concat instead.\n",
      "  df = df.append({'ID' : id_partie, **dict_partie}, ignore_index= True)\n",
      "C:\\Users\\Alexandre\\AppData\\Local\\Temp\\ipykernel_17076\\1405919454.py:18: FutureWarning: The frame.append method is deprecated and will be removed from pandas in a future version. Use pandas.concat instead.\n",
      "  df = df.append({'ID' : id_partie, **dict_partie}, ignore_index= True)\n",
      "C:\\Users\\Alexandre\\AppData\\Local\\Temp\\ipykernel_17076\\1405919454.py:18: FutureWarning: The frame.append method is deprecated and will be removed from pandas in a future version. Use pandas.concat instead.\n",
      "  df = df.append({'ID' : id_partie, **dict_partie}, ignore_index= True)\n",
      "C:\\Users\\Alexandre\\AppData\\Local\\Temp\\ipykernel_17076\\1405919454.py:18: FutureWarning: The frame.append method is deprecated and will be removed from pandas in a future version. Use pandas.concat instead.\n",
      "  df = df.append({'ID' : id_partie, **dict_partie}, ignore_index= True)\n",
      "C:\\Users\\Alexandre\\AppData\\Local\\Temp\\ipykernel_17076\\1405919454.py:18: FutureWarning: The frame.append method is deprecated and will be removed from pandas in a future version. Use pandas.concat instead.\n",
      "  df = df.append({'ID' : id_partie, **dict_partie}, ignore_index= True)\n",
      "C:\\Users\\Alexandre\\AppData\\Local\\Temp\\ipykernel_17076\\1405919454.py:18: FutureWarning: The frame.append method is deprecated and will be removed from pandas in a future version. Use pandas.concat instead.\n",
      "  df = df.append({'ID' : id_partie, **dict_partie}, ignore_index= True)\n",
      "C:\\Users\\Alexandre\\AppData\\Local\\Temp\\ipykernel_17076\\1405919454.py:18: FutureWarning: The frame.append method is deprecated and will be removed from pandas in a future version. Use pandas.concat instead.\n",
      "  df = df.append({'ID' : id_partie, **dict_partie}, ignore_index= True)\n",
      "C:\\Users\\Alexandre\\AppData\\Local\\Temp\\ipykernel_17076\\1405919454.py:18: FutureWarning: The frame.append method is deprecated and will be removed from pandas in a future version. Use pandas.concat instead.\n",
      "  df = df.append({'ID' : id_partie, **dict_partie}, ignore_index= True)\n",
      "C:\\Users\\Alexandre\\AppData\\Local\\Temp\\ipykernel_17076\\1405919454.py:18: FutureWarning: The frame.append method is deprecated and will be removed from pandas in a future version. Use pandas.concat instead.\n",
      "  df = df.append({'ID' : id_partie, **dict_partie}, ignore_index= True)\n",
      "C:\\Users\\Alexandre\\AppData\\Local\\Temp\\ipykernel_17076\\1405919454.py:18: FutureWarning: The frame.append method is deprecated and will be removed from pandas in a future version. Use pandas.concat instead.\n",
      "  df = df.append({'ID' : id_partie, **dict_partie}, ignore_index= True)\n",
      "C:\\Users\\Alexandre\\AppData\\Local\\Temp\\ipykernel_17076\\1405919454.py:18: FutureWarning: The frame.append method is deprecated and will be removed from pandas in a future version. Use pandas.concat instead.\n",
      "  df = df.append({'ID' : id_partie, **dict_partie}, ignore_index= True)\n",
      "C:\\Users\\Alexandre\\AppData\\Local\\Temp\\ipykernel_17076\\1405919454.py:18: FutureWarning: The frame.append method is deprecated and will be removed from pandas in a future version. Use pandas.concat instead.\n",
      "  df = df.append({'ID' : id_partie, **dict_partie}, ignore_index= True)\n",
      "C:\\Users\\Alexandre\\AppData\\Local\\Temp\\ipykernel_17076\\1405919454.py:18: FutureWarning: The frame.append method is deprecated and will be removed from pandas in a future version. Use pandas.concat instead.\n",
      "  df = df.append({'ID' : id_partie, **dict_partie}, ignore_index= True)\n",
      "C:\\Users\\Alexandre\\AppData\\Local\\Temp\\ipykernel_17076\\1405919454.py:18: FutureWarning: The frame.append method is deprecated and will be removed from pandas in a future version. Use pandas.concat instead.\n",
      "  df = df.append({'ID' : id_partie, **dict_partie}, ignore_index= True)\n",
      "C:\\Users\\Alexandre\\AppData\\Local\\Temp\\ipykernel_17076\\1405919454.py:18: FutureWarning: The frame.append method is deprecated and will be removed from pandas in a future version. Use pandas.concat instead.\n",
      "  df = df.append({'ID' : id_partie, **dict_partie}, ignore_index= True)\n",
      "C:\\Users\\Alexandre\\AppData\\Local\\Temp\\ipykernel_17076\\1405919454.py:18: FutureWarning: The frame.append method is deprecated and will be removed from pandas in a future version. Use pandas.concat instead.\n",
      "  df = df.append({'ID' : id_partie, **dict_partie}, ignore_index= True)\n",
      "C:\\Users\\Alexandre\\AppData\\Local\\Temp\\ipykernel_17076\\1405919454.py:18: FutureWarning: The frame.append method is deprecated and will be removed from pandas in a future version. Use pandas.concat instead.\n",
      "  df = df.append({'ID' : id_partie, **dict_partie}, ignore_index= True)\n",
      "C:\\Users\\Alexandre\\AppData\\Local\\Temp\\ipykernel_17076\\1405919454.py:18: FutureWarning: The frame.append method is deprecated and will be removed from pandas in a future version. Use pandas.concat instead.\n",
      "  df = df.append({'ID' : id_partie, **dict_partie}, ignore_index= True)\n",
      "C:\\Users\\Alexandre\\AppData\\Local\\Temp\\ipykernel_17076\\1405919454.py:18: FutureWarning: The frame.append method is deprecated and will be removed from pandas in a future version. Use pandas.concat instead.\n",
      "  df = df.append({'ID' : id_partie, **dict_partie}, ignore_index= True)\n",
      "C:\\Users\\Alexandre\\AppData\\Local\\Temp\\ipykernel_17076\\1405919454.py:18: FutureWarning: The frame.append method is deprecated and will be removed from pandas in a future version. Use pandas.concat instead.\n",
      "  df = df.append({'ID' : id_partie, **dict_partie}, ignore_index= True)\n",
      "C:\\Users\\Alexandre\\AppData\\Local\\Temp\\ipykernel_17076\\1405919454.py:18: FutureWarning: The frame.append method is deprecated and will be removed from pandas in a future version. Use pandas.concat instead.\n",
      "  df = df.append({'ID' : id_partie, **dict_partie}, ignore_index= True)\n",
      "C:\\Users\\Alexandre\\AppData\\Local\\Temp\\ipykernel_17076\\1405919454.py:18: FutureWarning: The frame.append method is deprecated and will be removed from pandas in a future version. Use pandas.concat instead.\n",
      "  df = df.append({'ID' : id_partie, **dict_partie}, ignore_index= True)\n",
      "C:\\Users\\Alexandre\\AppData\\Local\\Temp\\ipykernel_17076\\1405919454.py:18: FutureWarning: The frame.append method is deprecated and will be removed from pandas in a future version. Use pandas.concat instead.\n",
      "  df = df.append({'ID' : id_partie, **dict_partie}, ignore_index= True)\n",
      "C:\\Users\\Alexandre\\AppData\\Local\\Temp\\ipykernel_17076\\1405919454.py:18: FutureWarning: The frame.append method is deprecated and will be removed from pandas in a future version. Use pandas.concat instead.\n",
      "  df = df.append({'ID' : id_partie, **dict_partie}, ignore_index= True)\n",
      "C:\\Users\\Alexandre\\AppData\\Local\\Temp\\ipykernel_17076\\1405919454.py:18: FutureWarning: The frame.append method is deprecated and will be removed from pandas in a future version. Use pandas.concat instead.\n",
      "  df = df.append({'ID' : id_partie, **dict_partie}, ignore_index= True)\n",
      "C:\\Users\\Alexandre\\AppData\\Local\\Temp\\ipykernel_17076\\1405919454.py:18: FutureWarning: The frame.append method is deprecated and will be removed from pandas in a future version. Use pandas.concat instead.\n",
      "  df = df.append({'ID' : id_partie, **dict_partie}, ignore_index= True)\n",
      "C:\\Users\\Alexandre\\AppData\\Local\\Temp\\ipykernel_17076\\1405919454.py:18: FutureWarning: The frame.append method is deprecated and will be removed from pandas in a future version. Use pandas.concat instead.\n",
      "  df = df.append({'ID' : id_partie, **dict_partie}, ignore_index= True)\n",
      "C:\\Users\\Alexandre\\AppData\\Local\\Temp\\ipykernel_17076\\1405919454.py:18: FutureWarning: The frame.append method is deprecated and will be removed from pandas in a future version. Use pandas.concat instead.\n",
      "  df = df.append({'ID' : id_partie, **dict_partie}, ignore_index= True)\n",
      "C:\\Users\\Alexandre\\AppData\\Local\\Temp\\ipykernel_17076\\1405919454.py:18: FutureWarning: The frame.append method is deprecated and will be removed from pandas in a future version. Use pandas.concat instead.\n",
      "  df = df.append({'ID' : id_partie, **dict_partie}, ignore_index= True)\n",
      "C:\\Users\\Alexandre\\AppData\\Local\\Temp\\ipykernel_17076\\1405919454.py:18: FutureWarning: The frame.append method is deprecated and will be removed from pandas in a future version. Use pandas.concat instead.\n",
      "  df = df.append({'ID' : id_partie, **dict_partie}, ignore_index= True)\n",
      "C:\\Users\\Alexandre\\AppData\\Local\\Temp\\ipykernel_17076\\1405919454.py:18: FutureWarning: The frame.append method is deprecated and will be removed from pandas in a future version. Use pandas.concat instead.\n",
      "  df = df.append({'ID' : id_partie, **dict_partie}, ignore_index= True)\n",
      "C:\\Users\\Alexandre\\AppData\\Local\\Temp\\ipykernel_17076\\1405919454.py:18: FutureWarning: The frame.append method is deprecated and will be removed from pandas in a future version. Use pandas.concat instead.\n",
      "  df = df.append({'ID' : id_partie, **dict_partie}, ignore_index= True)\n",
      "C:\\Users\\Alexandre\\AppData\\Local\\Temp\\ipykernel_17076\\1405919454.py:18: FutureWarning: The frame.append method is deprecated and will be removed from pandas in a future version. Use pandas.concat instead.\n",
      "  df = df.append({'ID' : id_partie, **dict_partie}, ignore_index= True)\n",
      "C:\\Users\\Alexandre\\AppData\\Local\\Temp\\ipykernel_17076\\1405919454.py:18: FutureWarning: The frame.append method is deprecated and will be removed from pandas in a future version. Use pandas.concat instead.\n",
      "  df = df.append({'ID' : id_partie, **dict_partie}, ignore_index= True)\n",
      "C:\\Users\\Alexandre\\AppData\\Local\\Temp\\ipykernel_17076\\1405919454.py:18: FutureWarning: The frame.append method is deprecated and will be removed from pandas in a future version. Use pandas.concat instead.\n",
      "  df = df.append({'ID' : id_partie, **dict_partie}, ignore_index= True)\n",
      "C:\\Users\\Alexandre\\AppData\\Local\\Temp\\ipykernel_17076\\1405919454.py:18: FutureWarning: The frame.append method is deprecated and will be removed from pandas in a future version. Use pandas.concat instead.\n",
      "  df = df.append({'ID' : id_partie, **dict_partie}, ignore_index= True)\n",
      "C:\\Users\\Alexandre\\AppData\\Local\\Temp\\ipykernel_17076\\1405919454.py:18: FutureWarning: The frame.append method is deprecated and will be removed from pandas in a future version. Use pandas.concat instead.\n",
      "  df = df.append({'ID' : id_partie, **dict_partie}, ignore_index= True)\n",
      "C:\\Users\\Alexandre\\AppData\\Local\\Temp\\ipykernel_17076\\1405919454.py:18: FutureWarning: The frame.append method is deprecated and will be removed from pandas in a future version. Use pandas.concat instead.\n",
      "  df = df.append({'ID' : id_partie, **dict_partie}, ignore_index= True)\n",
      "C:\\Users\\Alexandre\\AppData\\Local\\Temp\\ipykernel_17076\\1405919454.py:18: FutureWarning: The frame.append method is deprecated and will be removed from pandas in a future version. Use pandas.concat instead.\n",
      "  df = df.append({'ID' : id_partie, **dict_partie}, ignore_index= True)\n",
      "C:\\Users\\Alexandre\\AppData\\Local\\Temp\\ipykernel_17076\\1405919454.py:18: FutureWarning: The frame.append method is deprecated and will be removed from pandas in a future version. Use pandas.concat instead.\n",
      "  df = df.append({'ID' : id_partie, **dict_partie}, ignore_index= True)\n",
      "C:\\Users\\Alexandre\\AppData\\Local\\Temp\\ipykernel_17076\\1405919454.py:18: FutureWarning: The frame.append method is deprecated and will be removed from pandas in a future version. Use pandas.concat instead.\n",
      "  df = df.append({'ID' : id_partie, **dict_partie}, ignore_index= True)\n",
      "C:\\Users\\Alexandre\\AppData\\Local\\Temp\\ipykernel_17076\\1405919454.py:18: FutureWarning: The frame.append method is deprecated and will be removed from pandas in a future version. Use pandas.concat instead.\n",
      "  df = df.append({'ID' : id_partie, **dict_partie}, ignore_index= True)\n",
      "C:\\Users\\Alexandre\\AppData\\Local\\Temp\\ipykernel_17076\\1405919454.py:18: FutureWarning: The frame.append method is deprecated and will be removed from pandas in a future version. Use pandas.concat instead.\n",
      "  df = df.append({'ID' : id_partie, **dict_partie}, ignore_index= True)\n",
      "C:\\Users\\Alexandre\\AppData\\Local\\Temp\\ipykernel_17076\\1405919454.py:18: FutureWarning: The frame.append method is deprecated and will be removed from pandas in a future version. Use pandas.concat instead.\n",
      "  df = df.append({'ID' : id_partie, **dict_partie}, ignore_index= True)\n",
      "C:\\Users\\Alexandre\\AppData\\Local\\Temp\\ipykernel_17076\\1405919454.py:18: FutureWarning: The frame.append method is deprecated and will be removed from pandas in a future version. Use pandas.concat instead.\n",
      "  df = df.append({'ID' : id_partie, **dict_partie}, ignore_index= True)\n",
      "C:\\Users\\Alexandre\\AppData\\Local\\Temp\\ipykernel_17076\\1405919454.py:18: FutureWarning: The frame.append method is deprecated and will be removed from pandas in a future version. Use pandas.concat instead.\n",
      "  df = df.append({'ID' : id_partie, **dict_partie}, ignore_index= True)\n",
      "C:\\Users\\Alexandre\\AppData\\Local\\Temp\\ipykernel_17076\\1405919454.py:18: FutureWarning: The frame.append method is deprecated and will be removed from pandas in a future version. Use pandas.concat instead.\n",
      "  df = df.append({'ID' : id_partie, **dict_partie}, ignore_index= True)\n",
      "C:\\Users\\Alexandre\\AppData\\Local\\Temp\\ipykernel_17076\\1405919454.py:18: FutureWarning: The frame.append method is deprecated and will be removed from pandas in a future version. Use pandas.concat instead.\n",
      "  df = df.append({'ID' : id_partie, **dict_partie}, ignore_index= True)\n",
      "C:\\Users\\Alexandre\\AppData\\Local\\Temp\\ipykernel_17076\\1405919454.py:18: FutureWarning: The frame.append method is deprecated and will be removed from pandas in a future version. Use pandas.concat instead.\n",
      "  df = df.append({'ID' : id_partie, **dict_partie}, ignore_index= True)\n",
      "C:\\Users\\Alexandre\\AppData\\Local\\Temp\\ipykernel_17076\\1405919454.py:18: FutureWarning: The frame.append method is deprecated and will be removed from pandas in a future version. Use pandas.concat instead.\n",
      "  df = df.append({'ID' : id_partie, **dict_partie}, ignore_index= True)\n",
      "C:\\Users\\Alexandre\\AppData\\Local\\Temp\\ipykernel_17076\\1405919454.py:18: FutureWarning: The frame.append method is deprecated and will be removed from pandas in a future version. Use pandas.concat instead.\n",
      "  df = df.append({'ID' : id_partie, **dict_partie}, ignore_index= True)\n",
      "C:\\Users\\Alexandre\\AppData\\Local\\Temp\\ipykernel_17076\\1405919454.py:18: FutureWarning: The frame.append method is deprecated and will be removed from pandas in a future version. Use pandas.concat instead.\n",
      "  df = df.append({'ID' : id_partie, **dict_partie}, ignore_index= True)\n",
      "C:\\Users\\Alexandre\\AppData\\Local\\Temp\\ipykernel_17076\\1405919454.py:18: FutureWarning: The frame.append method is deprecated and will be removed from pandas in a future version. Use pandas.concat instead.\n",
      "  df = df.append({'ID' : id_partie, **dict_partie}, ignore_index= True)\n",
      "C:\\Users\\Alexandre\\AppData\\Local\\Temp\\ipykernel_17076\\1405919454.py:18: FutureWarning: The frame.append method is deprecated and will be removed from pandas in a future version. Use pandas.concat instead.\n",
      "  df = df.append({'ID' : id_partie, **dict_partie}, ignore_index= True)\n",
      "C:\\Users\\Alexandre\\AppData\\Local\\Temp\\ipykernel_17076\\1405919454.py:18: FutureWarning: The frame.append method is deprecated and will be removed from pandas in a future version. Use pandas.concat instead.\n",
      "  df = df.append({'ID' : id_partie, **dict_partie}, ignore_index= True)\n",
      "C:\\Users\\Alexandre\\AppData\\Local\\Temp\\ipykernel_17076\\1405919454.py:18: FutureWarning: The frame.append method is deprecated and will be removed from pandas in a future version. Use pandas.concat instead.\n",
      "  df = df.append({'ID' : id_partie, **dict_partie}, ignore_index= True)\n",
      "C:\\Users\\Alexandre\\AppData\\Local\\Temp\\ipykernel_17076\\1405919454.py:18: FutureWarning: The frame.append method is deprecated and will be removed from pandas in a future version. Use pandas.concat instead.\n",
      "  df = df.append({'ID' : id_partie, **dict_partie}, ignore_index= True)\n",
      "C:\\Users\\Alexandre\\AppData\\Local\\Temp\\ipykernel_17076\\1405919454.py:18: FutureWarning: The frame.append method is deprecated and will be removed from pandas in a future version. Use pandas.concat instead.\n",
      "  df = df.append({'ID' : id_partie, **dict_partie}, ignore_index= True)\n",
      "C:\\Users\\Alexandre\\AppData\\Local\\Temp\\ipykernel_17076\\1405919454.py:18: FutureWarning: The frame.append method is deprecated and will be removed from pandas in a future version. Use pandas.concat instead.\n",
      "  df = df.append({'ID' : id_partie, **dict_partie}, ignore_index= True)\n",
      "C:\\Users\\Alexandre\\AppData\\Local\\Temp\\ipykernel_17076\\1405919454.py:18: FutureWarning: The frame.append method is deprecated and will be removed from pandas in a future version. Use pandas.concat instead.\n",
      "  df = df.append({'ID' : id_partie, **dict_partie}, ignore_index= True)\n",
      "C:\\Users\\Alexandre\\AppData\\Local\\Temp\\ipykernel_17076\\1405919454.py:18: FutureWarning: The frame.append method is deprecated and will be removed from pandas in a future version. Use pandas.concat instead.\n",
      "  df = df.append({'ID' : id_partie, **dict_partie}, ignore_index= True)\n",
      "C:\\Users\\Alexandre\\AppData\\Local\\Temp\\ipykernel_17076\\1405919454.py:18: FutureWarning: The frame.append method is deprecated and will be removed from pandas in a future version. Use pandas.concat instead.\n",
      "  df = df.append({'ID' : id_partie, **dict_partie}, ignore_index= True)\n",
      "C:\\Users\\Alexandre\\AppData\\Local\\Temp\\ipykernel_17076\\1405919454.py:18: FutureWarning: The frame.append method is deprecated and will be removed from pandas in a future version. Use pandas.concat instead.\n",
      "  df = df.append({'ID' : id_partie, **dict_partie}, ignore_index= True)\n",
      "C:\\Users\\Alexandre\\AppData\\Local\\Temp\\ipykernel_17076\\1405919454.py:18: FutureWarning: The frame.append method is deprecated and will be removed from pandas in a future version. Use pandas.concat instead.\n",
      "  df = df.append({'ID' : id_partie, **dict_partie}, ignore_index= True)\n"
     ]
    }
   ],
   "source": [
    "for id_partie, data_partie in liste_data:\n",
    "    dict_partie = {}\n",
    "    for i , tirage in enumerate(data_partie): # On récupère les informations relatives aux couleurs\n",
    "        couleurs = tirage.split(', ')\n",
    "        \n",
    "        rouge, vert, bleu = 0, 0, 0\n",
    "        for couleur in couleurs : # On va formater l'information en tuples (r,g,b)\n",
    "            nb, nom_couleur = couleur.split()\n",
    "            if nom_couleur == 'red':\n",
    "                rouge = int(nb)\n",
    "            elif nom_couleur == 'green':\n",
    "                vert = int(nb)\n",
    "            elif nom_couleur == 'blue':\n",
    "                bleu = int(nb)\n",
    "        \n",
    "        dict_partie[f'Tirage {i+1}'] = (rouge, vert, bleu)\n",
    "    \n",
    "    df = df.append({'ID' : id_partie, **dict_partie}, ignore_index= True)\n",
    "        "
   ]
  },
  {
   "cell_type": "code",
   "execution_count": 11,
   "id": "4c40b1c2-1ecb-46e7-aa08-2f532bab9295",
   "metadata": {},
   "outputs": [
    {
     "data": {
      "text/html": [
       "<div>\n",
       "<style scoped>\n",
       "    .dataframe tbody tr th:only-of-type {\n",
       "        vertical-align: middle;\n",
       "    }\n",
       "\n",
       "    .dataframe tbody tr th {\n",
       "        vertical-align: top;\n",
       "    }\n",
       "\n",
       "    .dataframe thead th {\n",
       "        text-align: right;\n",
       "    }\n",
       "</style>\n",
       "<table border=\"1\" class=\"dataframe\">\n",
       "  <thead>\n",
       "    <tr style=\"text-align: right;\">\n",
       "      <th></th>\n",
       "      <th>ID</th>\n",
       "      <th>Tirage 1</th>\n",
       "      <th>Tirage 2</th>\n",
       "      <th>Tirage 3</th>\n",
       "      <th>Tirage 4</th>\n",
       "      <th>Tirage 5</th>\n",
       "      <th>Tirage 6</th>\n",
       "    </tr>\n",
       "  </thead>\n",
       "  <tbody>\n",
       "    <tr>\n",
       "      <th>0</th>\n",
       "      <td>Game 1</td>\n",
       "      <td>(14, 7, 5)</td>\n",
       "      <td>(8, 4, 0)</td>\n",
       "      <td>(18, 6, 9)</td>\n",
       "      <td>NaN</td>\n",
       "      <td>NaN</td>\n",
       "      <td>NaN</td>\n",
       "    </tr>\n",
       "    <tr>\n",
       "      <th>1</th>\n",
       "      <td>Game 2</td>\n",
       "      <td>(15, 5, 3)</td>\n",
       "      <td>(14, 5, 1)</td>\n",
       "      <td>(11, 0, 0)</td>\n",
       "      <td>(3, 4, 1)</td>\n",
       "      <td>(0, 4, 1)</td>\n",
       "      <td>(10, 1, 0)</td>\n",
       "    </tr>\n",
       "    <tr>\n",
       "      <th>2</th>\n",
       "      <td>Game 3</td>\n",
       "      <td>(3, 11, 0)</td>\n",
       "      <td>(0, 4, 15)</td>\n",
       "      <td>(2, 10, 14)</td>\n",
       "      <td>(1, 3, 10)</td>\n",
       "      <td>NaN</td>\n",
       "      <td>NaN</td>\n",
       "    </tr>\n",
       "    <tr>\n",
       "      <th>3</th>\n",
       "      <td>Game 4</td>\n",
       "      <td>(6, 1, 11)</td>\n",
       "      <td>(12, 0, 3)</td>\n",
       "      <td>(14, 1, 8)</td>\n",
       "      <td>(7, 0, 3)</td>\n",
       "      <td>(5, 0, 8)</td>\n",
       "      <td>(7, 1, 0)</td>\n",
       "    </tr>\n",
       "    <tr>\n",
       "      <th>4</th>\n",
       "      <td>Game 5</td>\n",
       "      <td>(3, 14, 3)</td>\n",
       "      <td>(2, 1, 1)</td>\n",
       "      <td>(1, 8, 3)</td>\n",
       "      <td>(1, 15, 8)</td>\n",
       "      <td>NaN</td>\n",
       "      <td>NaN</td>\n",
       "    </tr>\n",
       "  </tbody>\n",
       "</table>\n",
       "</div>"
      ],
      "text/plain": [
       "       ID    Tirage 1    Tirage 2     Tirage 3    Tirage 4   Tirage 5  \\\n",
       "0  Game 1  (14, 7, 5)   (8, 4, 0)   (18, 6, 9)         NaN        NaN   \n",
       "1  Game 2  (15, 5, 3)  (14, 5, 1)   (11, 0, 0)   (3, 4, 1)  (0, 4, 1)   \n",
       "2  Game 3  (3, 11, 0)  (0, 4, 15)  (2, 10, 14)  (1, 3, 10)        NaN   \n",
       "3  Game 4  (6, 1, 11)  (12, 0, 3)   (14, 1, 8)   (7, 0, 3)  (5, 0, 8)   \n",
       "4  Game 5  (3, 14, 3)   (2, 1, 1)    (1, 8, 3)  (1, 15, 8)        NaN   \n",
       "\n",
       "     Tirage 6  \n",
       "0         NaN  \n",
       "1  (10, 1, 0)  \n",
       "2         NaN  \n",
       "3   (7, 1, 0)  \n",
       "4         NaN  "
      ]
     },
     "execution_count": 11,
     "metadata": {},
     "output_type": "execute_result"
    }
   ],
   "source": [
    "df.head()"
   ]
  },
  {
   "cell_type": "markdown",
   "id": "4e2a9cfa-3ef8-4f6e-af80-8d18ae71aa4d",
   "metadata": {},
   "source": [
    "Petites remarques, ce parsing est robuste aux permutations qu'il peut y avoir dans le recensement des résultats. En outre, sur nos 100 parties, le nombres maximal de révélations de l'elfe est 6.\n",
    "\n",
    "La colonne ID est pas vraiment utile ici (nous avons l'index, auquel il faudra faire attention quand on opère sur le dataframe), on va la supprimer."
   ]
  },
  {
   "cell_type": "code",
   "execution_count": 12,
   "id": "bd8c11fb-9c5d-452c-9f52-fe61acf26103",
   "metadata": {},
   "outputs": [],
   "source": [
    "df= df.drop(['ID'], axis = 1)"
   ]
  },
  {
   "cell_type": "code",
   "execution_count": 13,
   "id": "93bf95ae-1360-4588-8415-156fc730787b",
   "metadata": {},
   "outputs": [
    {
     "data": {
      "text/html": [
       "<div>\n",
       "<style scoped>\n",
       "    .dataframe tbody tr th:only-of-type {\n",
       "        vertical-align: middle;\n",
       "    }\n",
       "\n",
       "    .dataframe tbody tr th {\n",
       "        vertical-align: top;\n",
       "    }\n",
       "\n",
       "    .dataframe thead th {\n",
       "        text-align: right;\n",
       "    }\n",
       "</style>\n",
       "<table border=\"1\" class=\"dataframe\">\n",
       "  <thead>\n",
       "    <tr style=\"text-align: right;\">\n",
       "      <th></th>\n",
       "      <th>Tirage 1</th>\n",
       "      <th>Tirage 2</th>\n",
       "      <th>Tirage 3</th>\n",
       "      <th>Tirage 4</th>\n",
       "      <th>Tirage 5</th>\n",
       "      <th>Tirage 6</th>\n",
       "    </tr>\n",
       "  </thead>\n",
       "  <tbody>\n",
       "    <tr>\n",
       "      <th>0</th>\n",
       "      <td>(14, 7, 5)</td>\n",
       "      <td>(8, 4, 0)</td>\n",
       "      <td>(18, 6, 9)</td>\n",
       "      <td>NaN</td>\n",
       "      <td>NaN</td>\n",
       "      <td>NaN</td>\n",
       "    </tr>\n",
       "    <tr>\n",
       "      <th>1</th>\n",
       "      <td>(15, 5, 3)</td>\n",
       "      <td>(14, 5, 1)</td>\n",
       "      <td>(11, 0, 0)</td>\n",
       "      <td>(3, 4, 1)</td>\n",
       "      <td>(0, 4, 1)</td>\n",
       "      <td>(10, 1, 0)</td>\n",
       "    </tr>\n",
       "    <tr>\n",
       "      <th>2</th>\n",
       "      <td>(3, 11, 0)</td>\n",
       "      <td>(0, 4, 15)</td>\n",
       "      <td>(2, 10, 14)</td>\n",
       "      <td>(1, 3, 10)</td>\n",
       "      <td>NaN</td>\n",
       "      <td>NaN</td>\n",
       "    </tr>\n",
       "    <tr>\n",
       "      <th>3</th>\n",
       "      <td>(6, 1, 11)</td>\n",
       "      <td>(12, 0, 3)</td>\n",
       "      <td>(14, 1, 8)</td>\n",
       "      <td>(7, 0, 3)</td>\n",
       "      <td>(5, 0, 8)</td>\n",
       "      <td>(7, 1, 0)</td>\n",
       "    </tr>\n",
       "    <tr>\n",
       "      <th>4</th>\n",
       "      <td>(3, 14, 3)</td>\n",
       "      <td>(2, 1, 1)</td>\n",
       "      <td>(1, 8, 3)</td>\n",
       "      <td>(1, 15, 8)</td>\n",
       "      <td>NaN</td>\n",
       "      <td>NaN</td>\n",
       "    </tr>\n",
       "  </tbody>\n",
       "</table>\n",
       "</div>"
      ],
      "text/plain": [
       "     Tirage 1    Tirage 2     Tirage 3    Tirage 4   Tirage 5    Tirage 6\n",
       "0  (14, 7, 5)   (8, 4, 0)   (18, 6, 9)         NaN        NaN         NaN\n",
       "1  (15, 5, 3)  (14, 5, 1)   (11, 0, 0)   (3, 4, 1)  (0, 4, 1)  (10, 1, 0)\n",
       "2  (3, 11, 0)  (0, 4, 15)  (2, 10, 14)  (1, 3, 10)        NaN         NaN\n",
       "3  (6, 1, 11)  (12, 0, 3)   (14, 1, 8)   (7, 0, 3)  (5, 0, 8)   (7, 1, 0)\n",
       "4  (3, 14, 3)   (2, 1, 1)    (1, 8, 3)  (1, 15, 8)        NaN         NaN"
      ]
     },
     "execution_count": 13,
     "metadata": {},
     "output_type": "execute_result"
    }
   ],
   "source": [
    "df.head()"
   ]
  },
  {
   "cell_type": "code",
   "execution_count": 14,
   "id": "41be7e36-d192-48c3-aa1c-70edb2824258",
   "metadata": {},
   "outputs": [
    {
     "data": {
      "text/plain": [
       "float"
      ]
     },
     "execution_count": 14,
     "metadata": {},
     "output_type": "execute_result"
    }
   ],
   "source": [
    "type(df.iloc[0][5])"
   ]
  },
  {
   "cell_type": "markdown",
   "id": "799f5232-b223-4da0-a4fb-411c38b15f3b",
   "metadata": {},
   "source": [
    "#### Isolement des parties impossibles"
   ]
  },
  {
   "cell_type": "code",
   "execution_count": 15,
   "id": "d7eae50e-bf2d-4849-bc93-651153d81980",
   "metadata": {
    "tags": []
   },
   "outputs": [],
   "source": [
    "liste_index_impossibles = []\n",
    "\n",
    "for index, row in df.iterrows():\n",
    "    \n",
    "    for col in row.index:\n",
    "        \n",
    "        tirage = row[col]\n",
    "        if type(tirage) == float:\n",
    "            break\n",
    "        else :\n",
    "            if tirage[0] > 12 or tirage[1] > 13 or tirage[2] > 14:\n",
    "                liste_index_impossibles.append(index)\n",
    "                break\n",
    "        \n",
    "        \n",
    "        \n",
    "        \n",
    "        \n",
    "        "
   ]
  },
  {
   "cell_type": "code",
   "execution_count": 16,
   "id": "9a372731-be79-4f57-b7d2-6b3790a06acd",
   "metadata": {
    "tags": []
   },
   "outputs": [
    {
     "data": {
      "text/plain": [
       "[0,\n",
       " 1,\n",
       " 2,\n",
       " 3,\n",
       " 4,\n",
       " 7,\n",
       " 9,\n",
       " 12,\n",
       " 13,\n",
       " 14,\n",
       " 15,\n",
       " 16,\n",
       " 17,\n",
       " 23,\n",
       " 24,\n",
       " 25,\n",
       " 27,\n",
       " 30,\n",
       " 33,\n",
       " 35,\n",
       " 37,\n",
       " 40,\n",
       " 44,\n",
       " 45,\n",
       " 47,\n",
       " 48,\n",
       " 49,\n",
       " 51,\n",
       " 52,\n",
       " 53,\n",
       " 55,\n",
       " 58,\n",
       " 59,\n",
       " 60,\n",
       " 61,\n",
       " 64,\n",
       " 67,\n",
       " 70,\n",
       " 71,\n",
       " 72,\n",
       " 73,\n",
       " 75,\n",
       " 77,\n",
       " 79,\n",
       " 81,\n",
       " 82,\n",
       " 83,\n",
       " 85,\n",
       " 88,\n",
       " 90,\n",
       " 92,\n",
       " 93,\n",
       " 94,\n",
       " 95,\n",
       " 96,\n",
       " 97,\n",
       " 99]"
      ]
     },
     "execution_count": 16,
     "metadata": {},
     "output_type": "execute_result"
    }
   ],
   "source": [
    "liste_index_impossibles\n"
   ]
  },
  {
   "cell_type": "code",
   "execution_count": 17,
   "id": "333f47ec-566f-4172-ac87-eb51cfb8ebc9",
   "metadata": {},
   "outputs": [],
   "source": [
    "# Récupération des informations relatives aux parties possibles\n",
    "df_possible = df.loc[~df.index.isin(liste_index_impossibles)]"
   ]
  },
  {
   "cell_type": "code",
   "execution_count": 18,
   "id": "96005915-d069-4535-94a1-631efaee01de",
   "metadata": {},
   "outputs": [
    {
     "data": {
      "text/plain": [
       "(43, 6)"
      ]
     },
     "execution_count": 18,
     "metadata": {},
     "output_type": "execute_result"
    }
   ],
   "source": [
    "df_possible.shape"
   ]
  },
  {
   "cell_type": "code",
   "execution_count": 19,
   "id": "589d2639-d82c-4251-a9df-6c0bd395eb67",
   "metadata": {},
   "outputs": [
    {
     "data": {
      "text/html": [
       "<div>\n",
       "<style scoped>\n",
       "    .dataframe tbody tr th:only-of-type {\n",
       "        vertical-align: middle;\n",
       "    }\n",
       "\n",
       "    .dataframe tbody tr th {\n",
       "        vertical-align: top;\n",
       "    }\n",
       "\n",
       "    .dataframe thead th {\n",
       "        text-align: right;\n",
       "    }\n",
       "</style>\n",
       "<table border=\"1\" class=\"dataframe\">\n",
       "  <thead>\n",
       "    <tr style=\"text-align: right;\">\n",
       "      <th></th>\n",
       "      <th>Tirage 1</th>\n",
       "      <th>Tirage 2</th>\n",
       "      <th>Tirage 3</th>\n",
       "      <th>Tirage 4</th>\n",
       "      <th>Tirage 5</th>\n",
       "      <th>Tirage 6</th>\n",
       "    </tr>\n",
       "  </thead>\n",
       "  <tbody>\n",
       "    <tr>\n",
       "      <th>5</th>\n",
       "      <td>(5, 8, 4)</td>\n",
       "      <td>(7, 9, 10)</td>\n",
       "      <td>(10, 7, 11)</td>\n",
       "      <td>(8, 9, 6)</td>\n",
       "      <td>NaN</td>\n",
       "      <td>NaN</td>\n",
       "    </tr>\n",
       "    <tr>\n",
       "      <th>6</th>\n",
       "      <td>(9, 5, 11)</td>\n",
       "      <td>(6, 2, 12)</td>\n",
       "      <td>(8, 3, 4)</td>\n",
       "      <td>(8, 7, 9)</td>\n",
       "      <td>(5, 8, 0)</td>\n",
       "      <td>NaN</td>\n",
       "    </tr>\n",
       "    <tr>\n",
       "      <th>8</th>\n",
       "      <td>(6, 7, 8)</td>\n",
       "      <td>(3, 10, 2)</td>\n",
       "      <td>(6, 7, 10)</td>\n",
       "      <td>(11, 5, 7)</td>\n",
       "      <td>(10, 11, 0)</td>\n",
       "      <td>NaN</td>\n",
       "    </tr>\n",
       "    <tr>\n",
       "      <th>10</th>\n",
       "      <td>(6, 11, 4)</td>\n",
       "      <td>(12, 5, 1)</td>\n",
       "      <td>(7, 0, 1)</td>\n",
       "      <td>(11, 2, 3)</td>\n",
       "      <td>(6, 7, 2)</td>\n",
       "      <td>NaN</td>\n",
       "    </tr>\n",
       "    <tr>\n",
       "      <th>11</th>\n",
       "      <td>(8, 1, 3)</td>\n",
       "      <td>(2, 3, 0)</td>\n",
       "      <td>(5, 1, 2)</td>\n",
       "      <td>NaN</td>\n",
       "      <td>NaN</td>\n",
       "      <td>NaN</td>\n",
       "    </tr>\n",
       "  </tbody>\n",
       "</table>\n",
       "</div>"
      ],
      "text/plain": [
       "      Tirage 1    Tirage 2     Tirage 3    Tirage 4     Tirage 5 Tirage 6\n",
       "5    (5, 8, 4)  (7, 9, 10)  (10, 7, 11)   (8, 9, 6)          NaN      NaN\n",
       "6   (9, 5, 11)  (6, 2, 12)    (8, 3, 4)   (8, 7, 9)    (5, 8, 0)      NaN\n",
       "8    (6, 7, 8)  (3, 10, 2)   (6, 7, 10)  (11, 5, 7)  (10, 11, 0)      NaN\n",
       "10  (6, 11, 4)  (12, 5, 1)    (7, 0, 1)  (11, 2, 3)    (6, 7, 2)      NaN\n",
       "11   (8, 1, 3)   (2, 3, 0)    (5, 1, 2)         NaN          NaN      NaN"
      ]
     },
     "execution_count": 19,
     "metadata": {},
     "output_type": "execute_result"
    }
   ],
   "source": [
    "df_possible.head()"
   ]
  },
  {
   "cell_type": "code",
   "execution_count": 20,
   "id": "d3a6c561-b5b7-4ec4-9084-3b8cc840776d",
   "metadata": {},
   "outputs": [
    {
     "data": {
      "text/plain": [
       "2058"
      ]
     },
     "execution_count": 20,
     "metadata": {},
     "output_type": "execute_result"
    }
   ],
   "source": [
    "sum(df_possible.index)"
   ]
  },
  {
   "cell_type": "markdown",
   "id": "7df38e14-122c-46ca-ae93-cde3e41c4822",
   "metadata": {},
   "source": [
    "OK on avait fait une erreur ! C'est parce qu'on a oublié que l'indexation commence à 1 dans notre cas d'utilisation, et pas à 0. Il faut donc ajouter une unité à notre réponse précédente pour chaque partie valide."
   ]
  },
  {
   "cell_type": "code",
   "execution_count": 21,
   "id": "c789b0c2-9261-4a82-b516-432e58587add",
   "metadata": {},
   "outputs": [
    {
     "data": {
      "text/plain": [
       "2101"
      ]
     },
     "execution_count": 21,
     "metadata": {},
     "output_type": "execute_result"
    }
   ],
   "source": [
    "sum(df_possible.index) + df_possible.shape[0]"
   ]
  },
  {
   "cell_type": "markdown",
   "id": "83c0604c-be0f-4d78-85b8-d5a114700630",
   "metadata": {},
   "source": [
    "## Deuxième Partie"
   ]
  },
  {
   "cell_type": "markdown",
   "id": "d43aa9c2-8d0f-42f7-a783-cd4550961388",
   "metadata": {},
   "source": [
    "On garde le même input, mais la problématique est différente. On doit désormais trouver pour chaque partie, le nombre minimum de cube par couleur pour que la partie soit jouable.\n",
    "\n",
    "Nous calculerons ensuite le \"power\" du set de cube pour chaque partie; puis aggrégerons tous ces résultats pour avoir la \"sum of the power of these sets\".\n",
    "\n",
    "Nous repartirons de df."
   ]
  },
  {
   "cell_type": "code",
   "execution_count": 22,
   "id": "61d3416a-d8bc-4b6d-a227-f7b1f7b6eb93",
   "metadata": {},
   "outputs": [
    {
     "data": {
      "text/html": [
       "<div>\n",
       "<style scoped>\n",
       "    .dataframe tbody tr th:only-of-type {\n",
       "        vertical-align: middle;\n",
       "    }\n",
       "\n",
       "    .dataframe tbody tr th {\n",
       "        vertical-align: top;\n",
       "    }\n",
       "\n",
       "    .dataframe thead th {\n",
       "        text-align: right;\n",
       "    }\n",
       "</style>\n",
       "<table border=\"1\" class=\"dataframe\">\n",
       "  <thead>\n",
       "    <tr style=\"text-align: right;\">\n",
       "      <th></th>\n",
       "      <th>Tirage 1</th>\n",
       "      <th>Tirage 2</th>\n",
       "      <th>Tirage 3</th>\n",
       "      <th>Tirage 4</th>\n",
       "      <th>Tirage 5</th>\n",
       "      <th>Tirage 6</th>\n",
       "    </tr>\n",
       "  </thead>\n",
       "  <tbody>\n",
       "    <tr>\n",
       "      <th>0</th>\n",
       "      <td>(14, 7, 5)</td>\n",
       "      <td>(8, 4, 0)</td>\n",
       "      <td>(18, 6, 9)</td>\n",
       "      <td>NaN</td>\n",
       "      <td>NaN</td>\n",
       "      <td>NaN</td>\n",
       "    </tr>\n",
       "    <tr>\n",
       "      <th>1</th>\n",
       "      <td>(15, 5, 3)</td>\n",
       "      <td>(14, 5, 1)</td>\n",
       "      <td>(11, 0, 0)</td>\n",
       "      <td>(3, 4, 1)</td>\n",
       "      <td>(0, 4, 1)</td>\n",
       "      <td>(10, 1, 0)</td>\n",
       "    </tr>\n",
       "    <tr>\n",
       "      <th>2</th>\n",
       "      <td>(3, 11, 0)</td>\n",
       "      <td>(0, 4, 15)</td>\n",
       "      <td>(2, 10, 14)</td>\n",
       "      <td>(1, 3, 10)</td>\n",
       "      <td>NaN</td>\n",
       "      <td>NaN</td>\n",
       "    </tr>\n",
       "    <tr>\n",
       "      <th>3</th>\n",
       "      <td>(6, 1, 11)</td>\n",
       "      <td>(12, 0, 3)</td>\n",
       "      <td>(14, 1, 8)</td>\n",
       "      <td>(7, 0, 3)</td>\n",
       "      <td>(5, 0, 8)</td>\n",
       "      <td>(7, 1, 0)</td>\n",
       "    </tr>\n",
       "    <tr>\n",
       "      <th>4</th>\n",
       "      <td>(3, 14, 3)</td>\n",
       "      <td>(2, 1, 1)</td>\n",
       "      <td>(1, 8, 3)</td>\n",
       "      <td>(1, 15, 8)</td>\n",
       "      <td>NaN</td>\n",
       "      <td>NaN</td>\n",
       "    </tr>\n",
       "  </tbody>\n",
       "</table>\n",
       "</div>"
      ],
      "text/plain": [
       "     Tirage 1    Tirage 2     Tirage 3    Tirage 4   Tirage 5    Tirage 6\n",
       "0  (14, 7, 5)   (8, 4, 0)   (18, 6, 9)         NaN        NaN         NaN\n",
       "1  (15, 5, 3)  (14, 5, 1)   (11, 0, 0)   (3, 4, 1)  (0, 4, 1)  (10, 1, 0)\n",
       "2  (3, 11, 0)  (0, 4, 15)  (2, 10, 14)  (1, 3, 10)        NaN         NaN\n",
       "3  (6, 1, 11)  (12, 0, 3)   (14, 1, 8)   (7, 0, 3)  (5, 0, 8)   (7, 1, 0)\n",
       "4  (3, 14, 3)   (2, 1, 1)    (1, 8, 3)  (1, 15, 8)        NaN         NaN"
      ]
     },
     "execution_count": 22,
     "metadata": {},
     "output_type": "execute_result"
    }
   ],
   "source": [
    "df.head()"
   ]
  },
  {
   "cell_type": "code",
   "execution_count": 23,
   "id": "b3150b73-6a27-4a0e-b814-d7d054ed8da7",
   "metadata": {},
   "outputs": [
    {
     "data": {
      "text/plain": [
       "Index(['Tirage 1', 'Tirage 2', 'Tirage 3', 'Tirage 4', 'Tirage 5', 'Tirage 6'], dtype='object')"
      ]
     },
     "execution_count": 23,
     "metadata": {},
     "output_type": "execute_result"
    }
   ],
   "source": [
    "df.columns"
   ]
  },
  {
   "cell_type": "code",
   "execution_count": 24,
   "id": "3335827b-17c8-4bc6-a2e6-3826fddbed17",
   "metadata": {},
   "outputs": [],
   "source": [
    "# Construction d'une fonction qui récupère, pour une partie donnée, le nombre minimal\n",
    "# de boules nécéssaire à la possibilité de la partie pour chaque couleur. \n",
    "\n",
    "def min_rgb_possible(row):\n",
    "    \n",
    "    row = row.dropna()\n",
    "    max_rouge = row.apply(lambda x: x[0]).max()\n",
    "    max_vert = row.apply(lambda x: x[1]).max()\n",
    "    max_bleu = row.apply(lambda x: x[2]).max()\n",
    "    \n",
    "    return (max_rouge, max_vert, max_bleu)"
   ]
  },
  {
   "cell_type": "code",
   "execution_count": 25,
   "id": "c2c1dc4e-22a1-426a-ae3f-0578dc6f4ca2",
   "metadata": {},
   "outputs": [],
   "source": [
    "df['min_rgb_possible'] = df.apply(min_rgb_possible, axis=1)"
   ]
  },
  {
   "cell_type": "code",
   "execution_count": 26,
   "id": "6954a037-d0db-4443-9db2-0bcb60d952b6",
   "metadata": {},
   "outputs": [
    {
     "data": {
      "text/html": [
       "<div>\n",
       "<style scoped>\n",
       "    .dataframe tbody tr th:only-of-type {\n",
       "        vertical-align: middle;\n",
       "    }\n",
       "\n",
       "    .dataframe tbody tr th {\n",
       "        vertical-align: top;\n",
       "    }\n",
       "\n",
       "    .dataframe thead th {\n",
       "        text-align: right;\n",
       "    }\n",
       "</style>\n",
       "<table border=\"1\" class=\"dataframe\">\n",
       "  <thead>\n",
       "    <tr style=\"text-align: right;\">\n",
       "      <th></th>\n",
       "      <th>Tirage 1</th>\n",
       "      <th>Tirage 2</th>\n",
       "      <th>Tirage 3</th>\n",
       "      <th>Tirage 4</th>\n",
       "      <th>Tirage 5</th>\n",
       "      <th>Tirage 6</th>\n",
       "      <th>min_rgb_possible</th>\n",
       "    </tr>\n",
       "  </thead>\n",
       "  <tbody>\n",
       "    <tr>\n",
       "      <th>0</th>\n",
       "      <td>(14, 7, 5)</td>\n",
       "      <td>(8, 4, 0)</td>\n",
       "      <td>(18, 6, 9)</td>\n",
       "      <td>NaN</td>\n",
       "      <td>NaN</td>\n",
       "      <td>NaN</td>\n",
       "      <td>(18, 7, 9)</td>\n",
       "    </tr>\n",
       "    <tr>\n",
       "      <th>1</th>\n",
       "      <td>(15, 5, 3)</td>\n",
       "      <td>(14, 5, 1)</td>\n",
       "      <td>(11, 0, 0)</td>\n",
       "      <td>(3, 4, 1)</td>\n",
       "      <td>(0, 4, 1)</td>\n",
       "      <td>(10, 1, 0)</td>\n",
       "      <td>(15, 5, 3)</td>\n",
       "    </tr>\n",
       "    <tr>\n",
       "      <th>2</th>\n",
       "      <td>(3, 11, 0)</td>\n",
       "      <td>(0, 4, 15)</td>\n",
       "      <td>(2, 10, 14)</td>\n",
       "      <td>(1, 3, 10)</td>\n",
       "      <td>NaN</td>\n",
       "      <td>NaN</td>\n",
       "      <td>(3, 11, 15)</td>\n",
       "    </tr>\n",
       "    <tr>\n",
       "      <th>3</th>\n",
       "      <td>(6, 1, 11)</td>\n",
       "      <td>(12, 0, 3)</td>\n",
       "      <td>(14, 1, 8)</td>\n",
       "      <td>(7, 0, 3)</td>\n",
       "      <td>(5, 0, 8)</td>\n",
       "      <td>(7, 1, 0)</td>\n",
       "      <td>(14, 1, 11)</td>\n",
       "    </tr>\n",
       "    <tr>\n",
       "      <th>4</th>\n",
       "      <td>(3, 14, 3)</td>\n",
       "      <td>(2, 1, 1)</td>\n",
       "      <td>(1, 8, 3)</td>\n",
       "      <td>(1, 15, 8)</td>\n",
       "      <td>NaN</td>\n",
       "      <td>NaN</td>\n",
       "      <td>(3, 15, 8)</td>\n",
       "    </tr>\n",
       "  </tbody>\n",
       "</table>\n",
       "</div>"
      ],
      "text/plain": [
       "     Tirage 1    Tirage 2     Tirage 3    Tirage 4   Tirage 5    Tirage 6  \\\n",
       "0  (14, 7, 5)   (8, 4, 0)   (18, 6, 9)         NaN        NaN         NaN   \n",
       "1  (15, 5, 3)  (14, 5, 1)   (11, 0, 0)   (3, 4, 1)  (0, 4, 1)  (10, 1, 0)   \n",
       "2  (3, 11, 0)  (0, 4, 15)  (2, 10, 14)  (1, 3, 10)        NaN         NaN   \n",
       "3  (6, 1, 11)  (12, 0, 3)   (14, 1, 8)   (7, 0, 3)  (5, 0, 8)   (7, 1, 0)   \n",
       "4  (3, 14, 3)   (2, 1, 1)    (1, 8, 3)  (1, 15, 8)        NaN         NaN   \n",
       "\n",
       "  min_rgb_possible  \n",
       "0       (18, 7, 9)  \n",
       "1       (15, 5, 3)  \n",
       "2      (3, 11, 15)  \n",
       "3      (14, 1, 11)  \n",
       "4       (3, 15, 8)  "
      ]
     },
     "execution_count": 26,
     "metadata": {},
     "output_type": "execute_result"
    }
   ],
   "source": [
    "df.head()"
   ]
  },
  {
   "cell_type": "code",
   "execution_count": null,
   "id": "b79cda1f-435b-4531-8feb-e35c751a0b69",
   "metadata": {},
   "outputs": [],
   "source": []
  },
  {
   "cell_type": "code",
   "execution_count": 28,
   "id": "464ef33c-8d32-4650-8044-b09f68ae7130",
   "metadata": {},
   "outputs": [
    {
     "data": {
      "text/plain": [
       "(18, 7, 9)"
      ]
     },
     "execution_count": 28,
     "metadata": {},
     "output_type": "execute_result"
    }
   ],
   "source": [
    "df['min_rgb_possible'][0]"
   ]
  },
  {
   "cell_type": "code",
   "execution_count": null,
   "id": "97a52663-c2e5-4b3b-b48a-76cee8a58bb9",
   "metadata": {},
   "outputs": [],
   "source": [
    "# Création d'une colonne contenant le \"power\" du set de cube de taille minimale de\n",
    "# la partie"
   ]
  },
  {
   "cell_type": "code",
   "execution_count": 29,
   "id": "68c107e7-7dc7-4e7e-9b6b-02a432f6058c",
   "metadata": {},
   "outputs": [],
   "source": [
    "liste_power = []\n",
    "for k in range(df.shape[0]):\n",
    "    \n",
    "    power = df['min_rgb_possible'][k][0]*df['min_rgb_possible'][k][1]*df['min_rgb_possible'][k][2]\n",
    "    liste_power.append(power)\n",
    "\n",
    "df['power'] = liste_power"
   ]
  },
  {
   "cell_type": "code",
   "execution_count": 30,
   "id": "dab6c18a-a0ac-439d-ad54-1d2f747c9637",
   "metadata": {},
   "outputs": [
    {
     "data": {
      "text/html": [
       "<div>\n",
       "<style scoped>\n",
       "    .dataframe tbody tr th:only-of-type {\n",
       "        vertical-align: middle;\n",
       "    }\n",
       "\n",
       "    .dataframe tbody tr th {\n",
       "        vertical-align: top;\n",
       "    }\n",
       "\n",
       "    .dataframe thead th {\n",
       "        text-align: right;\n",
       "    }\n",
       "</style>\n",
       "<table border=\"1\" class=\"dataframe\">\n",
       "  <thead>\n",
       "    <tr style=\"text-align: right;\">\n",
       "      <th></th>\n",
       "      <th>Tirage 1</th>\n",
       "      <th>Tirage 2</th>\n",
       "      <th>Tirage 3</th>\n",
       "      <th>Tirage 4</th>\n",
       "      <th>Tirage 5</th>\n",
       "      <th>Tirage 6</th>\n",
       "      <th>min_rgb_possible</th>\n",
       "      <th>power</th>\n",
       "    </tr>\n",
       "  </thead>\n",
       "  <tbody>\n",
       "    <tr>\n",
       "      <th>0</th>\n",
       "      <td>(14, 7, 5)</td>\n",
       "      <td>(8, 4, 0)</td>\n",
       "      <td>(18, 6, 9)</td>\n",
       "      <td>NaN</td>\n",
       "      <td>NaN</td>\n",
       "      <td>NaN</td>\n",
       "      <td>(18, 7, 9)</td>\n",
       "      <td>1134</td>\n",
       "    </tr>\n",
       "    <tr>\n",
       "      <th>1</th>\n",
       "      <td>(15, 5, 3)</td>\n",
       "      <td>(14, 5, 1)</td>\n",
       "      <td>(11, 0, 0)</td>\n",
       "      <td>(3, 4, 1)</td>\n",
       "      <td>(0, 4, 1)</td>\n",
       "      <td>(10, 1, 0)</td>\n",
       "      <td>(15, 5, 3)</td>\n",
       "      <td>225</td>\n",
       "    </tr>\n",
       "    <tr>\n",
       "      <th>2</th>\n",
       "      <td>(3, 11, 0)</td>\n",
       "      <td>(0, 4, 15)</td>\n",
       "      <td>(2, 10, 14)</td>\n",
       "      <td>(1, 3, 10)</td>\n",
       "      <td>NaN</td>\n",
       "      <td>NaN</td>\n",
       "      <td>(3, 11, 15)</td>\n",
       "      <td>495</td>\n",
       "    </tr>\n",
       "    <tr>\n",
       "      <th>3</th>\n",
       "      <td>(6, 1, 11)</td>\n",
       "      <td>(12, 0, 3)</td>\n",
       "      <td>(14, 1, 8)</td>\n",
       "      <td>(7, 0, 3)</td>\n",
       "      <td>(5, 0, 8)</td>\n",
       "      <td>(7, 1, 0)</td>\n",
       "      <td>(14, 1, 11)</td>\n",
       "      <td>154</td>\n",
       "    </tr>\n",
       "    <tr>\n",
       "      <th>4</th>\n",
       "      <td>(3, 14, 3)</td>\n",
       "      <td>(2, 1, 1)</td>\n",
       "      <td>(1, 8, 3)</td>\n",
       "      <td>(1, 15, 8)</td>\n",
       "      <td>NaN</td>\n",
       "      <td>NaN</td>\n",
       "      <td>(3, 15, 8)</td>\n",
       "      <td>360</td>\n",
       "    </tr>\n",
       "  </tbody>\n",
       "</table>\n",
       "</div>"
      ],
      "text/plain": [
       "     Tirage 1    Tirage 2     Tirage 3    Tirage 4   Tirage 5    Tirage 6  \\\n",
       "0  (14, 7, 5)   (8, 4, 0)   (18, 6, 9)         NaN        NaN         NaN   \n",
       "1  (15, 5, 3)  (14, 5, 1)   (11, 0, 0)   (3, 4, 1)  (0, 4, 1)  (10, 1, 0)   \n",
       "2  (3, 11, 0)  (0, 4, 15)  (2, 10, 14)  (1, 3, 10)        NaN         NaN   \n",
       "3  (6, 1, 11)  (12, 0, 3)   (14, 1, 8)   (7, 0, 3)  (5, 0, 8)   (7, 1, 0)   \n",
       "4  (3, 14, 3)   (2, 1, 1)    (1, 8, 3)  (1, 15, 8)        NaN         NaN   \n",
       "\n",
       "  min_rgb_possible  power  \n",
       "0       (18, 7, 9)   1134  \n",
       "1       (15, 5, 3)    225  \n",
       "2      (3, 11, 15)    495  \n",
       "3      (14, 1, 11)    154  \n",
       "4       (3, 15, 8)    360  "
      ]
     },
     "execution_count": 30,
     "metadata": {},
     "output_type": "execute_result"
    }
   ],
   "source": [
    "df.head()"
   ]
  },
  {
   "cell_type": "code",
   "execution_count": 31,
   "id": "942107ad-4cb9-4fdd-828a-5a62029cde0c",
   "metadata": {},
   "outputs": [
    {
     "data": {
      "text/plain": [
       "58269"
      ]
     },
     "execution_count": 31,
     "metadata": {},
     "output_type": "execute_result"
    }
   ],
   "source": [
    "df['power'].sum()"
   ]
  },
  {
   "cell_type": "code",
   "execution_count": null,
   "id": "9d1806de-ec6f-46c3-987f-6afc9800e58c",
   "metadata": {},
   "outputs": [],
   "source": []
  },
  {
   "cell_type": "code",
   "execution_count": null,
   "id": "46eb3409-8730-42f4-849d-380c60732314",
   "metadata": {},
   "outputs": [],
   "source": []
  },
  {
   "cell_type": "code",
   "execution_count": null,
   "id": "6807dfa8-24ce-4bab-8102-8dbffe099a5d",
   "metadata": {},
   "outputs": [],
   "source": []
  },
  {
   "cell_type": "code",
   "execution_count": null,
   "id": "78b2ac55-8644-4a7c-b40c-99b5cfda6460",
   "metadata": {},
   "outputs": [],
   "source": []
  }
 ],
 "metadata": {
  "kernelspec": {
   "display_name": "Python 3 (ipykernel)",
   "language": "python",
   "name": "python3"
  },
  "language_info": {
   "codemirror_mode": {
    "name": "ipython",
    "version": 3
   },
   "file_extension": ".py",
   "mimetype": "text/x-python",
   "name": "python",
   "nbconvert_exporter": "python",
   "pygments_lexer": "ipython3",
   "version": "3.10.9"
  }
 },
 "nbformat": 4,
 "nbformat_minor": 5
}
