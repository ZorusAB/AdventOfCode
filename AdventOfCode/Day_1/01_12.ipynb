{
 "cells": [
  {
   "cell_type": "markdown",
   "id": "a6f4bf7d-831c-4459-8231-1e8e125735d3",
   "metadata": {},
   "source": [
    "## Quel coquin ce jeune elfe calibreur..."
   ]
  },
  {
   "cell_type": "markdown",
   "id": "8ce02568-4de6-4554-b9c3-4d8208199fdb",
   "metadata": {},
   "source": [
    "Le document de calibrage qui nous sert d'input est une succession de strings, contenant des chiffres par endroits. Pour trouver le calibrage de chaque ligne, il faut concaténer le premier chiffre apparu dans la string avec le dernier chiffre apparu dans la string.\n",
    "\n",
    "La valeur qui nous intéresse et que nous recherchons est la somme de l'ensemble des valeurs de calibrage.\n",
    "\n",
    "Nous allons donc, dans l'ordre lire le fichier, le parser, récupèrer les valeurs de calirbage puis les sommer."
   ]
  },
  {
   "cell_type": "markdown",
   "id": "eedae31e-1768-44f3-9151-9cb9f9c534b5",
   "metadata": {},
   "source": [
    "### Partie 1"
   ]
  },
  {
   "cell_type": "code",
   "execution_count": 1,
   "id": "a0308447-7ac5-4084-bff5-14386bbd1c63",
   "metadata": {},
   "outputs": [],
   "source": [
    "def calibrage_elfe(path):\n",
    "    \n",
    "    somme_valeurs_calibrage = 0\n",
    "    \n",
    "    with open(path, 'r') as fichier :\n",
    "        for row in fichier:\n",
    "            row = row.strip()\n",
    "            premier_chiffre = None\n",
    "            dernier_chiffre = None\n",
    "            \n",
    "            for element in row:\n",
    "                if element.isdigit():\n",
    "                    if premier_chiffre is None:\n",
    "                        premier_chiffre = int(element)\n",
    "                        \n",
    "                    dernier_chiffre = int(element)\n",
    "            valeur_calibrage = int(str(premier_chiffre) + str(dernier_chiffre))\n",
    "            \n",
    "            somme_valeurs_calibrage += valeur_calibrage\n",
    "    \n",
    "    return somme_valeurs_calibrage\n",
    "            "
   ]
  },
  {
   "cell_type": "code",
   "execution_count": 2,
   "id": "2732f9e3-6dff-402a-8f6f-2f89b0d1c094",
   "metadata": {},
   "outputs": [
    {
     "data": {
      "text/plain": [
       "54081"
      ]
     },
     "execution_count": 2,
     "metadata": {},
     "output_type": "execute_result"
    }
   ],
   "source": [
    "calibrage_elfe('input.txt')"
   ]
  },
  {
   "cell_type": "markdown",
   "id": "b73ff3f1-7192-4ee7-8c36-67a66fb83439",
   "metadata": {},
   "source": [
    "### Partie 2"
   ]
  },
  {
   "cell_type": "markdown",
   "id": "63928f7d-7aef-4d3e-a4d2-0445e445a7f5",
   "metadata": {},
   "source": [
    "Sont cachés des chiffres écrits en toutes lettres, que nous devons maintenant déceler pour comprendre correctement ce que l'elfe calibreur souhaite nous dire !\n",
    "\n",
    "On va checker pour chaque \"chiffre en toutes lettres\" si il est dans la string, et si oui, remplacer cette sous-string par sa valeur numérique."
   ]
  },
  {
   "cell_type": "code",
   "execution_count": 3,
   "id": "816dbe60-0e63-4f87-b546-ded6f60da434",
   "metadata": {},
   "outputs": [],
   "source": [
    "dictionnaire_correspondance = {'one' : 1, 'two' : 2, 'three' : 3,\n",
    "                               'four' :4,'five':5, 'six' : 6, 'seven' :7,\n",
    "                               'eight' : 8, 'nine' : 9}"
   ]
  },
  {
   "cell_type": "code",
   "execution_count": 4,
   "id": "aee1ec9b-a8ae-46e6-b425-673ac76d5ec0",
   "metadata": {},
   "outputs": [],
   "source": [
    "def calibrage_elfe_2(path):\n",
    "    \n",
    "    somme_valeurs_calibrage = 0\n",
    "    with open(path, 'r') as fichier:\n",
    "        \n",
    "        for row in fichier:\n",
    "            row = row.strip()\n",
    "            for word, number in dictionnaire_correspondance.items():\n",
    "                row = row.replace(word, str(number))\n",
    "            print(row)\n",
    "            \n",
    "            premier_chiffre = None\n",
    "            dernier_chiffre = None\n",
    "            \n",
    "            for element in row:\n",
    "                if element.isdigit():\n",
    "                    if premier_chiffre is None:\n",
    "                        premier_chiffre = int(element)\n",
    "                        \n",
    "                    dernier_chiffre = int(element)\n",
    "            valeur_calibrage = int(str(premier_chiffre) + str(dernier_chiffre))\n",
    "            print(valeur_calibrage)\n",
    "            print('------')\n",
    "            somme_valeurs_calibrage += valeur_calibrage\n",
    "    \n",
    "    return somme_valeurs_calibrage\n",
    "    "
   ]
  },
  {
   "cell_type": "code",
   "execution_count": 5,
   "id": "97007874-dd8e-447b-b4ce-6e3d545bf766",
   "metadata": {
    "tags": []
   },
   "outputs": [
    {
     "ename": "NameError",
     "evalue": "name 'dictionnaire_correspondance' is not defined",
     "output_type": "error",
     "traceback": [
      "\u001b[1;31m---------------------------------------------------------------------------\u001b[0m",
      "\u001b[1;31mNameError\u001b[0m                                 Traceback (most recent call last)",
      "Cell \u001b[1;32mIn[5], line 1\u001b[0m\n\u001b[1;32m----> 1\u001b[0m \u001b[43mcalibrage_elfe_2\u001b[49m\u001b[43m(\u001b[49m\u001b[38;5;124;43m'\u001b[39;49m\u001b[38;5;124;43minput.txt\u001b[39;49m\u001b[38;5;124;43m'\u001b[39;49m\u001b[43m)\u001b[49m\n",
      "Cell \u001b[1;32mIn[4], line 8\u001b[0m, in \u001b[0;36mcalibrage_elfe_2\u001b[1;34m(path)\u001b[0m\n\u001b[0;32m      6\u001b[0m \u001b[38;5;28;01mfor\u001b[39;00m row \u001b[38;5;129;01min\u001b[39;00m fichier:\n\u001b[0;32m      7\u001b[0m     row \u001b[38;5;241m=\u001b[39m row\u001b[38;5;241m.\u001b[39mstrip()\n\u001b[1;32m----> 8\u001b[0m     \u001b[38;5;28;01mfor\u001b[39;00m word, number \u001b[38;5;129;01min\u001b[39;00m \u001b[43mdictionnaire_correspondance\u001b[49m\u001b[38;5;241m.\u001b[39mitems():\n\u001b[0;32m      9\u001b[0m         row \u001b[38;5;241m=\u001b[39m row\u001b[38;5;241m.\u001b[39mreplace(word, \u001b[38;5;28mstr\u001b[39m(number))\n\u001b[0;32m     10\u001b[0m     \u001b[38;5;28mprint\u001b[39m(row)\n",
      "\u001b[1;31mNameError\u001b[0m: name 'dictionnaire_correspondance' is not defined"
     ]
    }
   ],
   "source": [
    "calibrage_elfe_2('input.txt')"
   ]
  },
  {
   "cell_type": "code",
   "execution_count": null,
   "id": "6a73880c-8aba-45d7-a1b3-7b053734822b",
   "metadata": {},
   "outputs": [],
   "source": [
    "calibrage_elfe_2('input_2.txt')"
   ]
  },
  {
   "cell_type": "markdown",
   "id": "87971c55-1365-40a1-8390-3486a7d1fe47",
   "metadata": {},
   "source": [
    "Ok, il est difficile de gèrer des cas du type 'eightwone'; on va changer de point de vue. Ce qui nous intéresse, c'est le premier chiffre qui apparaît (en toutes lettres ou non) ainsi que le dernier chiffre qui apparaît (en toutes lettres ou non).\n",
    "\n",
    "On va considérer des sous-strings incrémentaux de la string principale (une ligne de notre input), dans le sens de lecture pour détecter des \"préfixes\" ainsi que dans l'autre sens (à définir proprement) pour détecter des \"suffixes\"."
   ]
  },
  {
   "cell_type": "code",
   "execution_count": null,
   "id": "1179a471-aed2-42d1-b11f-b7151fbd8101",
   "metadata": {},
   "outputs": [],
   "source": [
    "for ele in dictionnaire_correspondance:\n",
    "    print(type(ele))"
   ]
  },
  {
   "cell_type": "code",
   "execution_count": null,
   "id": "c08fa129-792c-4c75-bb12-afdb6a58cea4",
   "metadata": {},
   "outputs": [],
   "source": [
    "'one' in 'abcone'"
   ]
  },
  {
   "cell_type": "code",
   "execution_count": null,
   "id": "2186fce0-0444-42bc-b5b1-8b3878de0996",
   "metadata": {},
   "outputs": [],
   "source": [
    "# Fonction qui vient parser la line dans le sens de lecture\n",
    "\n",
    "def get_premier_chiffre(line):\n",
    "    '''Cette fonction récupère le premier chiffre qui apparaît, en toutes lettres\n",
    "    ou non, dans la chaine de caractères'''\n",
    "    \n",
    "    premier_chiffre = None\n",
    "    sous_chaine = ''\n",
    "    \n",
    "    for element in line :\n",
    "        if element.isdigit():\n",
    "            premier_chiffre = int(element)\n",
    "            break\n",
    "        else:\n",
    "            sous_chaine += element\n",
    "            # print(sous_chaine)\n",
    "            for cle in dictionnaire_correspondance:\n",
    "                if cle in sous_chaine:\n",
    "                    premier_chiffre = dictionnaire_correspondance[cle]\n",
    "                    return premier_chiffre\n",
    "        # print(premier_chiffre)\n",
    "    return premier_chiffre\n",
    "                \n",
    "    \n",
    "    "
   ]
  },
  {
   "cell_type": "code",
   "execution_count": null,
   "id": "1df1fc9f-c315-4f33-8529-e2ae71b8be21",
   "metadata": {},
   "outputs": [],
   "source": [
    "get_premier_chiffre('dvkxhvkgxcfivescjcnqqnnine2tthreecptkgxmzjsbzdrhk')"
   ]
  },
  {
   "cell_type": "code",
   "execution_count": null,
   "id": "f607fe83-8010-4165-9be5-1af019a59465",
   "metadata": {},
   "outputs": [],
   "source": [
    "# Fonction qui vient parser la ligne dans l'autre sens\n",
    "\n",
    "def get_dernier_chiffre(line):\n",
    "    '''Cette fonction récupère le dernier chiffre qui apparaît, en toutes lettres\n",
    "    ou non, dans la chaine de caractères'''\n",
    "    \n",
    "    dernier_chiffre = None\n",
    "    sous_chaine = ''\n",
    "    \n",
    "    for k in range(len(line)):\n",
    "        if line[len(line)-k-1].isdigit():\n",
    "            dernier_chiffre = int(line[len(line)-k-1])\n",
    "            break\n",
    "        \n",
    "        else:\n",
    "            sous_chaine = line[len(line)-k-1] + sous_chaine\n",
    "            for cle in dictionnaire_correspondance:\n",
    "                if cle in sous_chaine:\n",
    "                    dernier_chiffre = dictionnaire_correspondance[cle]\n",
    "                    return dernier_chiffre\n",
    "    \n",
    "    return dernier_chiffre"
   ]
  },
  {
   "cell_type": "markdown",
   "id": "cf550a4b-d67a-4c23-88da-1c15098b9ffc",
   "metadata": {},
   "source": [
    "Maintenant, on va construire une fonction qui viendra prendre chaque ligne de l'input, calculera sa valeur de calibrage et effectuera la somme totale de ces valeurs."
   ]
  },
  {
   "cell_type": "code",
   "execution_count": null,
   "id": "db4f092e-adee-46e5-90e0-cefd3e2ade42",
   "metadata": {},
   "outputs": [],
   "source": [
    "def calibrage_elfe_final(path):\n",
    "    \n",
    "    somme_valeurs_calibrage = 0\n",
    "    with open(path, 'r') as fichier:\n",
    "        for row in fichier:\n",
    "            row = row.strip()\n",
    "            premier_chiffre = get_premier_chiffre(row)\n",
    "            dernier_chiffre = get_dernier_chiffre(row)\n",
    "            \n",
    "            valeur_calibrage = int(str(premier_chiffre) + str(dernier_chiffre))\n",
    "            somme_valeurs_calibrage += valeur_calibrage\n",
    "            \n",
    "        return somme_valeurs_calibrage"
   ]
  },
  {
   "cell_type": "code",
   "execution_count": null,
   "id": "63f6b60d-f4c0-461c-9fa6-43841d204c02",
   "metadata": {},
   "outputs": [],
   "source": [
    "calibrage_elfe_final('input.txt')"
   ]
  },
  {
   "cell_type": "code",
   "execution_count": null,
   "id": "5b2c1707-87d1-4268-a104-4190dfc95c98",
   "metadata": {},
   "outputs": [],
   "source": []
  },
  {
   "cell_type": "code",
   "execution_count": null,
   "id": "2e07d79b-0483-4c10-8b02-9f79bacda88f",
   "metadata": {},
   "outputs": [],
   "source": []
  },
  {
   "cell_type": "code",
   "execution_count": null,
   "id": "43067f2f-6aa7-4749-91d1-13aa0790ac69",
   "metadata": {},
   "outputs": [],
   "source": []
  }
 ],
 "metadata": {
  "kernelspec": {
   "display_name": "Python 3 (ipykernel)",
   "language": "python",
   "name": "python3"
  },
  "language_info": {
   "codemirror_mode": {
    "name": "ipython",
    "version": 3
   },
   "file_extension": ".py",
   "mimetype": "text/x-python",
   "name": "python",
   "nbconvert_exporter": "python",
   "pygments_lexer": "ipython3",
   "version": "3.10.9"
  }
 },
 "nbformat": 4,
 "nbformat_minor": 5
}
